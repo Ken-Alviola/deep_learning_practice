{
 "cells": [
  {
   "cell_type": "code",
   "execution_count": 1,
   "metadata": {
    "ExecuteTime": {
     "end_time": "2021-08-19T20:08:22.700783Z",
     "start_time": "2021-08-19T20:08:22.691282Z"
    }
   },
   "outputs": [],
   "source": [
    "import os, shutil"
   ]
  },
  {
   "cell_type": "code",
   "execution_count": 2,
   "metadata": {
    "ExecuteTime": {
     "end_time": "2021-08-19T20:09:15.609342Z",
     "start_time": "2021-08-19T20:09:15.601582Z"
    }
   },
   "outputs": [],
   "source": [
    "original_dataset_dir = '/Users/ken/deep_learning_practice/dogs-vs-cats/'"
   ]
  },
  {
   "cell_type": "code",
   "execution_count": 3,
   "metadata": {
    "ExecuteTime": {
     "end_time": "2021-08-19T20:10:22.110175Z",
     "start_time": "2021-08-19T20:10:22.104230Z"
    }
   },
   "outputs": [],
   "source": [
    "base_dir = '/Users/ken/deep_learning_practice/cats_and_dogs_small'\n",
    "os.mkdir(base_dir)"
   ]
  },
  {
   "cell_type": "code",
   "execution_count": 4,
   "metadata": {
    "ExecuteTime": {
     "end_time": "2021-08-19T20:16:03.020999Z",
     "start_time": "2021-08-19T20:16:03.013533Z"
    }
   },
   "outputs": [],
   "source": [
    "train_dir = os.path.join(base_dir, 'train')\n",
    "os.mkdir(train_dir)\n",
    "\n",
    "validation_dir = os.path.join(base_dir, 'validation')\n",
    "os.mkdir(validation_dir)\n",
    "\n",
    "test_dir = os.path.join(base_dir, 'test')\n",
    "os.mkdir(test_dir)"
   ]
  },
  {
   "cell_type": "code",
   "execution_count": 5,
   "metadata": {
    "ExecuteTime": {
     "end_time": "2021-08-19T20:17:03.207309Z",
     "start_time": "2021-08-19T20:17:03.202220Z"
    }
   },
   "outputs": [],
   "source": [
    "train_cats_dir = os.path.join(train_dir, 'cats')\n",
    "os.mkdir(train_cats_dir)"
   ]
  },
  {
   "cell_type": "code",
   "execution_count": 6,
   "metadata": {
    "ExecuteTime": {
     "end_time": "2021-08-19T20:17:41.049130Z",
     "start_time": "2021-08-19T20:17:41.042798Z"
    }
   },
   "outputs": [],
   "source": [
    "train_dogs_dir = os.path.join(train_dir, 'dogs')\n",
    "os.mkdir(train_dogs_dir)"
   ]
  },
  {
   "cell_type": "code",
   "execution_count": 10,
   "metadata": {
    "ExecuteTime": {
     "end_time": "2021-08-19T20:20:37.918459Z",
     "start_time": "2021-08-19T20:20:37.902441Z"
    }
   },
   "outputs": [
    {
     "ename": "FileExistsError",
     "evalue": "[Errno 17] File exists: '/Users/ken/deep_learning_practice/cats_and_dogs_small/validation/cats'",
     "output_type": "error",
     "traceback": [
      "\u001b[0;31m---------------------------------------------------------------------------\u001b[0m",
      "\u001b[0;31mFileExistsError\u001b[0m                           Traceback (most recent call last)",
      "\u001b[0;32m<ipython-input-10-83dd2454776c>\u001b[0m in \u001b[0;36m<module>\u001b[0;34m\u001b[0m\n\u001b[1;32m      1\u001b[0m \u001b[0mvalidation_cats_dir\u001b[0m \u001b[0;34m=\u001b[0m \u001b[0mos\u001b[0m\u001b[0;34m.\u001b[0m\u001b[0mpath\u001b[0m\u001b[0;34m.\u001b[0m\u001b[0mjoin\u001b[0m\u001b[0;34m(\u001b[0m\u001b[0mvalidation_dir\u001b[0m\u001b[0;34m,\u001b[0m \u001b[0;34m'cats'\u001b[0m\u001b[0;34m)\u001b[0m\u001b[0;34m\u001b[0m\u001b[0;34m\u001b[0m\u001b[0m\n\u001b[0;32m----> 2\u001b[0;31m \u001b[0mos\u001b[0m\u001b[0;34m.\u001b[0m\u001b[0mmkdir\u001b[0m\u001b[0;34m(\u001b[0m\u001b[0mvalidation_cats_dir\u001b[0m\u001b[0;34m)\u001b[0m\u001b[0;34m\u001b[0m\u001b[0;34m\u001b[0m\u001b[0m\n\u001b[0m",
      "\u001b[0;31mFileExistsError\u001b[0m: [Errno 17] File exists: '/Users/ken/deep_learning_practice/cats_and_dogs_small/validation/cats'"
     ]
    }
   ],
   "source": [
    "validation_cats_dir = os.path.join(validation_dir, 'cats')\n",
    "os.mkdir(validation_cats_dir)"
   ]
  },
  {
   "cell_type": "code",
   "execution_count": 9,
   "metadata": {
    "ExecuteTime": {
     "end_time": "2021-08-19T20:20:35.693100Z",
     "start_time": "2021-08-19T20:20:35.688409Z"
    }
   },
   "outputs": [],
   "source": [
    "validation_dogs_dir = os.path.join(validation_dir, 'dogs')\n",
    "os.mkdir(validation_dogs_dir)"
   ]
  },
  {
   "cell_type": "code",
   "execution_count": 11,
   "metadata": {
    "ExecuteTime": {
     "end_time": "2021-08-19T20:21:37.713483Z",
     "start_time": "2021-08-19T20:21:37.707682Z"
    }
   },
   "outputs": [],
   "source": [
    "test_cats_dir = os.path.join(test_dir, 'cats')\n",
    "os.mkdir(test_cats_dir)\n",
    "\n",
    "test_dogs_dir = os.path.join(test_dir, 'dogs')\n",
    "os.mkdir(test_dogs_dir)"
   ]
  },
  {
   "cell_type": "code",
   "execution_count": 13,
   "metadata": {
    "ExecuteTime": {
     "end_time": "2021-08-19T20:37:58.881408Z",
     "start_time": "2021-08-19T20:37:57.151437Z"
    }
   },
   "outputs": [],
   "source": [
    "fnames = ['cat.{}.jpg'.format(i) for i in range(1000)]\n",
    "for fname in fnames:\n",
    "    src = os.path.join(original_dataset_dir, fname)\n",
    "    dst = os.path.join(train_cats_dir, fname)\n",
    "    shutil.copyfile(src,dst)"
   ]
  },
  {
   "cell_type": "code",
   "execution_count": 14,
   "metadata": {
    "ExecuteTime": {
     "end_time": "2021-08-19T20:38:04.098029Z",
     "start_time": "2021-08-19T20:38:03.407436Z"
    }
   },
   "outputs": [],
   "source": [
    "fnames = ['cat.{}.jpg'.format(i) for i in range(1000,1500)]\n",
    "for fname in fnames:\n",
    "    src = os.path.join(original_dataset_dir, fname)\n",
    "    dst = os.path.join(validation_cats_dir, fname)\n",
    "    shutil.copyfile(src,dst)"
   ]
  },
  {
   "cell_type": "code",
   "execution_count": 15,
   "metadata": {
    "ExecuteTime": {
     "end_time": "2021-08-19T20:38:05.442059Z",
     "start_time": "2021-08-19T20:38:04.745874Z"
    }
   },
   "outputs": [],
   "source": [
    "fnames = ['cat.{}.jpg'.format(i) for i in range(1500,2000)]\n",
    "for fname in fnames:\n",
    "    src = os.path.join(original_dataset_dir, fname)\n",
    "    dst = os.path.join(test_cats_dir, fname)\n",
    "    shutil.copyfile(src,dst)"
   ]
  },
  {
   "cell_type": "code",
   "execution_count": 16,
   "metadata": {
    "ExecuteTime": {
     "end_time": "2021-08-19T20:38:07.802144Z",
     "start_time": "2021-08-19T20:38:06.277772Z"
    }
   },
   "outputs": [],
   "source": [
    "fnames = ['dog.{}.jpg'.format(i) for i in range(1000)]\n",
    "for fname in fnames:\n",
    "    src = os.path.join(original_dataset_dir, fname)\n",
    "    dst = os.path.join(train_dogs_dir, fname)\n",
    "    shutil.copyfile(src,dst)"
   ]
  },
  {
   "cell_type": "code",
   "execution_count": 17,
   "metadata": {
    "ExecuteTime": {
     "end_time": "2021-08-19T20:38:09.288446Z",
     "start_time": "2021-08-19T20:38:08.549092Z"
    }
   },
   "outputs": [],
   "source": [
    "fnames = ['dog.{}.jpg'.format(i) for i in range(1000,1500)]\n",
    "for fname in fnames:\n",
    "    src = os.path.join(original_dataset_dir, fname)\n",
    "    dst = os.path.join(validation_dogs_dir, fname)\n",
    "    shutil.copyfile(src,dst)"
   ]
  },
  {
   "cell_type": "code",
   "execution_count": 18,
   "metadata": {
    "ExecuteTime": {
     "end_time": "2021-08-19T20:38:10.554384Z",
     "start_time": "2021-08-19T20:38:09.918254Z"
    }
   },
   "outputs": [],
   "source": [
    "fnames = ['dog.{}.jpg'.format(i) for i in range(1500,2000)]\n",
    "for fname in fnames:\n",
    "    src = os.path.join(original_dataset_dir, fname)\n",
    "    dst = os.path.join(test_dogs_dir, fname)\n",
    "    shutil.copyfile(src,dst)"
   ]
  },
  {
   "cell_type": "code",
   "execution_count": 19,
   "metadata": {
    "ExecuteTime": {
     "end_time": "2021-08-19T20:40:14.941903Z",
     "start_time": "2021-08-19T20:40:14.919564Z"
    }
   },
   "outputs": [
    {
     "name": "stdout",
     "output_type": "stream",
     "text": [
      "1000\n",
      "1000\n"
     ]
    }
   ],
   "source": [
    "print(len(os.listdir(train_cats_dir)))\n",
    "print(len(os.listdir(train_dogs_dir)))"
   ]
  },
  {
   "cell_type": "code",
   "execution_count": 20,
   "metadata": {
    "ExecuteTime": {
     "end_time": "2021-08-19T20:40:43.547916Z",
     "start_time": "2021-08-19T20:40:43.537292Z"
    }
   },
   "outputs": [
    {
     "name": "stdout",
     "output_type": "stream",
     "text": [
      "500\n",
      "500\n"
     ]
    }
   ],
   "source": [
    "print(len(os.listdir(validation_cats_dir)))\n",
    "print(len(os.listdir(validation_dogs_dir)))"
   ]
  },
  {
   "cell_type": "code",
   "execution_count": 21,
   "metadata": {
    "ExecuteTime": {
     "end_time": "2021-08-19T20:40:45.950972Z",
     "start_time": "2021-08-19T20:40:45.939526Z"
    }
   },
   "outputs": [
    {
     "name": "stdout",
     "output_type": "stream",
     "text": [
      "500\n",
      "500\n"
     ]
    }
   ],
   "source": [
    "print(len(os.listdir(test_cats_dir)))\n",
    "print(len(os.listdir(test_dogs_dir)))"
   ]
  },
  {
   "cell_type": "code",
   "execution_count": 22,
   "metadata": {
    "ExecuteTime": {
     "end_time": "2021-08-19T20:42:23.985586Z",
     "start_time": "2021-08-19T20:42:23.982353Z"
    }
   },
   "outputs": [],
   "source": [
    "from keras import models, layers"
   ]
  },
  {
   "cell_type": "code",
   "execution_count": 23,
   "metadata": {
    "ExecuteTime": {
     "end_time": "2021-08-20T23:12:10.107421Z",
     "start_time": "2021-08-20T23:12:09.840741Z"
    }
   },
   "outputs": [],
   "source": [
    "model = models.Sequential()\n",
    "model.add(layers.Conv2D(32, (3,3), activation='relu', input_shape = (150,150,3)))\n",
    "model.add(layers.MaxPooling2D((2,2)))\n",
    "model.add(layers.Conv2D(64,(3,3),activation='relu'))\n",
    "model.add(layers.MaxPooling2D((2,2)))\n",
    "model.add(layers.Conv2D(128,(3,3),activation='relu'))\n",
    "model.add(layers.MaxPooling2D((2,2)))\n",
    "model.add(layers.Conv2D(128,(3,3),activation='relu'))\n",
    "model.add(layers.MaxPooling2D((2,2)))\n",
    "model.add(layers.Flatten())\n",
    "model.add(layers.Dense(512, activation='relu'))\n",
    "model.add(layers.Dense(1, activation='sigmoid'))"
   ]
  },
  {
   "cell_type": "code",
   "execution_count": 24,
   "metadata": {
    "ExecuteTime": {
     "end_time": "2021-08-20T23:12:15.978155Z",
     "start_time": "2021-08-20T23:12:15.969914Z"
    }
   },
   "outputs": [
    {
     "name": "stdout",
     "output_type": "stream",
     "text": [
      "Model: \"sequential\"\n",
      "_________________________________________________________________\n",
      "Layer (type)                 Output Shape              Param #   \n",
      "=================================================================\n",
      "conv2d (Conv2D)              (None, 148, 148, 32)      896       \n",
      "_________________________________________________________________\n",
      "max_pooling2d (MaxPooling2D) (None, 74, 74, 32)        0         \n",
      "_________________________________________________________________\n",
      "conv2d_1 (Conv2D)            (None, 72, 72, 64)        18496     \n",
      "_________________________________________________________________\n",
      "max_pooling2d_1 (MaxPooling2 (None, 36, 36, 64)        0         \n",
      "_________________________________________________________________\n",
      "conv2d_2 (Conv2D)            (None, 34, 34, 128)       73856     \n",
      "_________________________________________________________________\n",
      "max_pooling2d_2 (MaxPooling2 (None, 17, 17, 128)       0         \n",
      "_________________________________________________________________\n",
      "conv2d_3 (Conv2D)            (None, 15, 15, 128)       147584    \n",
      "_________________________________________________________________\n",
      "max_pooling2d_3 (MaxPooling2 (None, 7, 7, 128)         0         \n",
      "_________________________________________________________________\n",
      "flatten (Flatten)            (None, 6272)              0         \n",
      "_________________________________________________________________\n",
      "dense (Dense)                (None, 512)               3211776   \n",
      "_________________________________________________________________\n",
      "dense_1 (Dense)              (None, 1)                 513       \n",
      "=================================================================\n",
      "Total params: 3,453,121\n",
      "Trainable params: 3,453,121\n",
      "Non-trainable params: 0\n",
      "_________________________________________________________________\n"
     ]
    }
   ],
   "source": [
    "model.summary()"
   ]
  },
  {
   "cell_type": "code",
   "execution_count": 27,
   "metadata": {
    "ExecuteTime": {
     "end_time": "2021-08-23T19:00:48.546133Z",
     "start_time": "2021-08-23T19:00:48.484442Z"
    }
   },
   "outputs": [],
   "source": [
    "from keras import optimizers\n",
    "\n",
    "model.compile(loss='binary_crossentropy',\n",
    "             optimizer = optimizers.RMSprop(learning_rate=1e-4),\n",
    "             metrics=['acc'])"
   ]
  },
  {
   "cell_type": "code",
   "execution_count": 28,
   "metadata": {
    "ExecuteTime": {
     "end_time": "2021-08-24T21:55:48.713724Z",
     "start_time": "2021-08-24T21:55:48.444800Z"
    }
   },
   "outputs": [
    {
     "name": "stdout",
     "output_type": "stream",
     "text": [
      "Found 2000 images belonging to 2 classes.\n",
      "Found 1000 images belonging to 2 classes.\n"
     ]
    }
   ],
   "source": [
    "#converting images into tensors\n",
    "\n",
    "from keras.preprocessing.image import ImageDataGenerator\n",
    "\n",
    "train_datagen = ImageDataGenerator(rescale=1./255)\n",
    "test_datagen = ImageDataGenerator(rescale=1./255)\n",
    "\n",
    "train_generator = train_datagen.flow_from_directory(train_dir,\n",
    "                                                   target_size=(150,150),\n",
    "                                                   batch_size=20,\n",
    "                                                   class_mode='binary')\n",
    "\n",
    "validation_generator = test_datagen.flow_from_directory(validation_dir,\n",
    "                                                       target_size=(150,150),\n",
    "                                                       batch_size=20,\n",
    "                                                       class_mode='binary')"
   ]
  },
  {
   "cell_type": "code",
   "execution_count": null,
   "metadata": {
    "ExecuteTime": {
     "start_time": "2021-08-24T21:59:44.962Z"
    }
   },
   "outputs": [
    {
     "name": "stderr",
     "output_type": "stream",
     "text": [
      "/usr/local/anaconda3/lib/python3.8/site-packages/tensorflow/python/keras/engine/training.py:1844: UserWarning: `Model.fit_generator` is deprecated and will be removed in a future version. Please use `Model.fit`, which supports generators.\n",
      "  warnings.warn('`Model.fit_generator` is deprecated and '\n"
     ]
    },
    {
     "name": "stdout",
     "output_type": "stream",
     "text": [
      "Epoch 1/30\n",
      "100/100 [==============================] - 70s 697ms/step - loss: 0.6948 - acc: 0.5143 - val_loss: 0.6813 - val_acc: 0.5440\n",
      "Epoch 2/30\n",
      "100/100 [==============================] - 109s 1s/step - loss: 0.6625 - acc: 0.6006 - val_loss: 0.7009 - val_acc: 0.5410\n",
      "Epoch 3/30\n",
      "100/100 [==============================] - 99s 989ms/step - loss: 0.6287 - acc: 0.6380 - val_loss: 0.6527 - val_acc: 0.5970\n",
      "Epoch 4/30\n",
      "100/100 [==============================] - 97s 971ms/step - loss: 0.5906 - acc: 0.6855 - val_loss: 0.6185 - val_acc: 0.6600\n",
      "Epoch 5/30\n",
      "100/100 [==============================] - 91s 909ms/step - loss: 0.5446 - acc: 0.7276 - val_loss: 0.5695 - val_acc: 0.6930\n",
      "Epoch 6/30\n",
      "100/100 [==============================] - 88s 883ms/step - loss: 0.5175 - acc: 0.7404 - val_loss: 0.5673 - val_acc: 0.6990\n",
      "Epoch 7/30\n",
      "100/100 [==============================] - 84s 838ms/step - loss: 0.4988 - acc: 0.7604 - val_loss: 0.5634 - val_acc: 0.7020\n",
      "Epoch 8/30\n",
      "100/100 [==============================] - 83s 828ms/step - loss: 0.4788 - acc: 0.7739 - val_loss: 0.5515 - val_acc: 0.7240\n",
      "Epoch 9/30\n",
      "100/100 [==============================] - 95s 952ms/step - loss: 0.4351 - acc: 0.8059 - val_loss: 0.5277 - val_acc: 0.7440\n",
      "Epoch 10/30\n",
      "100/100 [==============================] - 83s 834ms/step - loss: 0.4027 - acc: 0.8343 - val_loss: 0.5523 - val_acc: 0.7150\n",
      "Epoch 11/30\n",
      "100/100 [==============================] - 97s 970ms/step - loss: 0.3829 - acc: 0.8250 - val_loss: 0.5250 - val_acc: 0.7350\n",
      "Epoch 12/30\n",
      "100/100 [==============================] - 99s 989ms/step - loss: 0.3573 - acc: 0.8423 - val_loss: 0.5848 - val_acc: 0.7250\n",
      "Epoch 13/30\n",
      "100/100 [==============================] - 85s 850ms/step - loss: 0.3446 - acc: 0.8490 - val_loss: 0.5817 - val_acc: 0.7180\n",
      "Epoch 14/30\n",
      "100/100 [==============================] - 91s 909ms/step - loss: 0.3336 - acc: 0.8626 - val_loss: 0.5350 - val_acc: 0.7380\n",
      "Epoch 15/30\n",
      "100/100 [==============================] - 93s 926ms/step - loss: 0.3084 - acc: 0.8692 - val_loss: 0.5403 - val_acc: 0.7430\n",
      "Epoch 16/30\n",
      "100/100 [==============================] - 105s 1s/step - loss: 0.3110 - acc: 0.8679 - val_loss: 0.5823 - val_acc: 0.7420\n",
      "Epoch 17/30\n",
      "100/100 [==============================] - 85s 844ms/step - loss: 0.2800 - acc: 0.8898 - val_loss: 0.5558 - val_acc: 0.7420\n",
      "Epoch 18/30\n",
      "100/100 [==============================] - 83s 828ms/step - loss: 0.2406 - acc: 0.9132 - val_loss: 0.5583 - val_acc: 0.7480\n",
      "Epoch 19/30\n",
      "100/100 [==============================] - 82s 822ms/step - loss: 0.2225 - acc: 0.9170 - val_loss: 0.5942 - val_acc: 0.7420\n",
      "Epoch 20/30\n",
      "100/100 [==============================] - 82s 822ms/step - loss: 0.2163 - acc: 0.9162 - val_loss: 0.6097 - val_acc: 0.7370\n",
      "Epoch 21/30\n",
      "100/100 [==============================] - 82s 825ms/step - loss: 0.1894 - acc: 0.9333 - val_loss: 0.6094 - val_acc: 0.7540\n",
      "Epoch 22/30\n",
      "100/100 [==============================] - 82s 825ms/step - loss: 0.1873 - acc: 0.9248 - val_loss: 0.6479 - val_acc: 0.7390\n",
      "Epoch 23/30\n",
      "100/100 [==============================] - 85s 855ms/step - loss: 0.1545 - acc: 0.9393 - val_loss: 0.7329 - val_acc: 0.7360\n",
      "Epoch 24/30\n",
      "100/100 [==============================] - 93s 933ms/step - loss: 0.1476 - acc: 0.9485 - val_loss: 0.6361 - val_acc: 0.7500\n",
      "Epoch 25/30\n",
      "100/100 [==============================] - 107s 1s/step - loss: 0.1206 - acc: 0.9582 - val_loss: 0.7340 - val_acc: 0.7430\n",
      "Epoch 26/30\n",
      "100/100 [==============================] - 118s 1s/step - loss: 0.1053 - acc: 0.9607 - val_loss: 0.7723 - val_acc: 0.7420\n",
      "Epoch 27/30\n",
      "100/100 [==============================] - 118s 1s/step - loss: 0.0947 - acc: 0.9615 - val_loss: 0.7584 - val_acc: 0.7420\n",
      "Epoch 28/30\n",
      " 56/100 [===============>..............] - ETA: 43s - loss: 0.0826 - acc: 0.9745"
     ]
    }
   ],
   "source": [
    "history = model.fit_generator(train_generator,\n",
    "                             steps_per_epoch=100,\n",
    "                             epochs=30,\n",
    "                             validation_data=validation_generator,\n",
    "                             validation_steps=50\n",
    "                             )"
   ]
  },
  {
   "cell_type": "code",
   "execution_count": null,
   "metadata": {
    "ExecuteTime": {
     "start_time": "2021-08-24T22:00:07.107Z"
    }
   },
   "outputs": [],
   "source": [
    "model.save('cats_and_dogs_small_1.h5')"
   ]
  },
  {
   "cell_type": "code",
   "execution_count": null,
   "metadata": {
    "ExecuteTime": {
     "start_time": "2021-08-24T22:05:17.351Z"
    }
   },
   "outputs": [],
   "source": [
    "history.history.keys()"
   ]
  },
  {
   "cell_type": "code",
   "execution_count": null,
   "metadata": {},
   "outputs": [],
   "source": [
    "import matplotlib.pyplot as plt\n",
    "from jupyterthemes import jtplot\n",
    "jtplot.style()\n",
    "\n",
    "acc = history.history[\"acc\"]\n",
    "val_acc = history.history[\"val_acc\"]\n",
    "loss = history.history['loss']\n",
    "val_loss= history.history['val_loss']\n",
    "\n",
    "epochs = range(1, len(acc) + 1)\n",
    "\n",
    "plt.plot(epochs, acc, \"bo\", label=\"Training acc\")\n",
    "plt.plot(epochs, val_acc, \"b\", label=\"Validation acc\")\n",
    "plt.title(\"Training and validation accuracy\")\n",
    "plt.legend()\n",
    "\n",
    "plt.figure()\n",
    "\n",
    "plt.plot(epochs, loss, 'bo', label = 'Training loss')\n",
    "plt.plot(epochs, val_loss, 'b', label='Validation loss')\n",
    "plt.title('Training and validation loss')\n",
    "plt.legend()\n",
    "\n",
    "plt.show()\n",
    "\n"
   ]
  }
 ],
 "metadata": {
  "kernelspec": {
   "display_name": "Python 3",
   "language": "python",
   "name": "python3"
  },
  "language_info": {
   "codemirror_mode": {
    "name": "ipython",
    "version": 3
   },
   "file_extension": ".py",
   "mimetype": "text/x-python",
   "name": "python",
   "nbconvert_exporter": "python",
   "pygments_lexer": "ipython3",
   "version": "3.8.5"
  }
 },
 "nbformat": 4,
 "nbformat_minor": 4
}
